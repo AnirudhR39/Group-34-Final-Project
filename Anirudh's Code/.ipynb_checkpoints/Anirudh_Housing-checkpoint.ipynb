{
 "cells": [
  {
   "cell_type": "markdown",
   "metadata": {},
   "source": [
    "# Housing Affordability\n",
    "## By Anirudh Rajesh\n",
    "\n",
    "**Dataset used:** https://data.wprdc.org/dataset/pgh/resource/9890875b-c1d1-4e64-8fc9-a4a8dc433745\n",
    "\n",
    "Out of our three criteria for determining neighborhood, this notebook will be focusing on **housing affordability**.\n",
    "\n",
    "We beleive that being able to afford a house is an important factor in what makes a good neighboorhood for a family. This notebook will look into how the neighborhoods of Pittsburgh rank in terms of housing affordibility, which will serve to factor into our overall metrics for determining what we think is the best neighborhood in Pittsburgh."
   ]
  },
  {
   "cell_type": "code",
   "execution_count": 1,
   "metadata": {},
   "outputs": [],
   "source": [
    "import pandas as pd\n",
    "import geopandas as gpd\n",
    "import math\n",
    "\n",
    "import warnings\n",
    "warnings.simplefilter(action='ignore', category=FutureWarning)"
   ]
  },
  {
   "cell_type": "code",
   "execution_count": 2,
   "metadata": {},
   "outputs": [
    {
     "data": {
      "text/html": [
       "<div>\n",
       "<style scoped>\n",
       "    .dataframe tbody tr th:only-of-type {\n",
       "        vertical-align: middle;\n",
       "    }\n",
       "\n",
       "    .dataframe tbody tr th {\n",
       "        vertical-align: top;\n",
       "    }\n",
       "\n",
       "    .dataframe thead th {\n",
       "        text-align: right;\n",
       "    }\n",
       "</style>\n",
       "<table border=\"1\" class=\"dataframe\">\n",
       "  <thead>\n",
       "    <tr style=\"text-align: right;\">\n",
       "      <th></th>\n",
       "      <th>Neighborhood</th>\n",
       "      <th>Sector #</th>\n",
       "      <th>Population (2010)</th>\n",
       "      <th>Total # Units (2000)</th>\n",
       "      <th>Total # Units (2010)</th>\n",
       "      <th>% Occupied Units (2010)</th>\n",
       "      <th>% Vacant Units (2010)</th>\n",
       "      <th># Occupied Units (2010)</th>\n",
       "      <th>% Owner Occupied Units (2010)</th>\n",
       "      <th>% Renter Occupied Units (2010)</th>\n",
       "      <th>...</th>\n",
       "      <th>% Units Built before 1939</th>\n",
       "      <th>Median Home Value (2000)</th>\n",
       "      <th>Med. Val. ('00 in '10 Dollars)</th>\n",
       "      <th>Median Home  Value (2010)</th>\n",
       "      <th>% Change Real Value 2000-2010</th>\n",
       "      <th>Median Sale Price (2010)</th>\n",
       "      <th># Sales Counted (2010)</th>\n",
       "      <th>Foreclosures (2008)</th>\n",
       "      <th>Foreclosures (2010)</th>\n",
       "      <th>% of all Housing Units Foreclosed (2010)</th>\n",
       "    </tr>\n",
       "  </thead>\n",
       "  <tbody>\n",
       "    <tr>\n",
       "      <th>0</th>\n",
       "      <td>Allegheny Center</td>\n",
       "      <td>3</td>\n",
       "      <td>933</td>\n",
       "      <td>675</td>\n",
       "      <td>1,052</td>\n",
       "      <td>51.5%</td>\n",
       "      <td>48.5%</td>\n",
       "      <td>535</td>\n",
       "      <td>10.1%</td>\n",
       "      <td>89.9%</td>\n",
       "      <td>...</td>\n",
       "      <td>1.3%</td>\n",
       "      <td>$86,500</td>\n",
       "      <td>$109,535</td>\n",
       "      <td>$136,300</td>\n",
       "      <td>24.4%</td>\n",
       "      <td>NaN</td>\n",
       "      <td>0</td>\n",
       "      <td>0</td>\n",
       "      <td>0</td>\n",
       "      <td>0.0%</td>\n",
       "    </tr>\n",
       "    <tr>\n",
       "      <th>1</th>\n",
       "      <td>Allegheny West</td>\n",
       "      <td>3</td>\n",
       "      <td>462</td>\n",
       "      <td>390</td>\n",
       "      <td>355</td>\n",
       "      <td>74.9%</td>\n",
       "      <td>25.1%</td>\n",
       "      <td>203</td>\n",
       "      <td>18.2%</td>\n",
       "      <td>81.8%</td>\n",
       "      <td>...</td>\n",
       "      <td>57.4%</td>\n",
       "      <td>$159,700</td>\n",
       "      <td>$202,228</td>\n",
       "      <td>$123,600</td>\n",
       "      <td>-38.9%</td>\n",
       "      <td>$309,940</td>\n",
       "      <td>7</td>\n",
       "      <td>0</td>\n",
       "      <td>1</td>\n",
       "      <td>0.3%</td>\n",
       "    </tr>\n",
       "    <tr>\n",
       "      <th>2</th>\n",
       "      <td>Allentown</td>\n",
       "      <td>6</td>\n",
       "      <td>2,500</td>\n",
       "      <td>1,505</td>\n",
       "      <td>1,291</td>\n",
       "      <td>80.0%</td>\n",
       "      <td>20.0%</td>\n",
       "      <td>953</td>\n",
       "      <td>59.2%</td>\n",
       "      <td>40.8%</td>\n",
       "      <td>...</td>\n",
       "      <td>62.9%</td>\n",
       "      <td>$34,300</td>\n",
       "      <td>$43,434</td>\n",
       "      <td>$42,200</td>\n",
       "      <td>-2.8%</td>\n",
       "      <td>$8,500</td>\n",
       "      <td>70</td>\n",
       "      <td>27</td>\n",
       "      <td>11</td>\n",
       "      <td>0.9%</td>\n",
       "    </tr>\n",
       "    <tr>\n",
       "      <th>3</th>\n",
       "      <td>Arlington</td>\n",
       "      <td>7</td>\n",
       "      <td>1,869</td>\n",
       "      <td>880</td>\n",
       "      <td>886</td>\n",
       "      <td>86.6%</td>\n",
       "      <td>13.4%</td>\n",
       "      <td>754</td>\n",
       "      <td>65.4%</td>\n",
       "      <td>34.6%</td>\n",
       "      <td>...</td>\n",
       "      <td>72.3%</td>\n",
       "      <td>$38,800</td>\n",
       "      <td>$49,132</td>\n",
       "      <td>$44,200</td>\n",
       "      <td>-10.0%</td>\n",
       "      <td>$15,397</td>\n",
       "      <td>34</td>\n",
       "      <td>12</td>\n",
       "      <td>13</td>\n",
       "      <td>1.5%</td>\n",
       "    </tr>\n",
       "    <tr>\n",
       "      <th>4</th>\n",
       "      <td>Arlington Heights</td>\n",
       "      <td>7</td>\n",
       "      <td>244</td>\n",
       "      <td>557</td>\n",
       "      <td>148</td>\n",
       "      <td>91.2%</td>\n",
       "      <td>8.8%</td>\n",
       "      <td>139</td>\n",
       "      <td>18.7%</td>\n",
       "      <td>81.3%</td>\n",
       "      <td>...</td>\n",
       "      <td>9.2%</td>\n",
       "      <td>$45,000</td>\n",
       "      <td>$56,984</td>\n",
       "      <td>$64,400</td>\n",
       "      <td>13.0%</td>\n",
       "      <td>NaN</td>\n",
       "      <td>0</td>\n",
       "      <td>0</td>\n",
       "      <td>0</td>\n",
       "      <td>0.0%</td>\n",
       "    </tr>\n",
       "  </tbody>\n",
       "</table>\n",
       "<p>5 rows × 28 columns</p>\n",
       "</div>"
      ],
      "text/plain": [
       "        Neighborhood  Sector # Population (2010) Total # Units (2000)  \\\n",
       "0   Allegheny Center         3               933                  675   \n",
       "1     Allegheny West         3               462                  390   \n",
       "2          Allentown         6             2,500                1,505   \n",
       "3          Arlington         7             1,869                  880   \n",
       "4  Arlington Heights         7               244                  557   \n",
       "\n",
       "  Total # Units (2010) % Occupied Units (2010) % Vacant Units (2010)  \\\n",
       "0                1,052                   51.5%                 48.5%   \n",
       "1                  355                   74.9%                 25.1%   \n",
       "2                1,291                   80.0%                 20.0%   \n",
       "3                  886                   86.6%                 13.4%   \n",
       "4                  148                   91.2%                  8.8%   \n",
       "\n",
       "  # Occupied Units (2010) % Owner Occupied Units (2010)  \\\n",
       "0                     535                         10.1%   \n",
       "1                     203                         18.2%   \n",
       "2                     953                         59.2%   \n",
       "3                     754                         65.4%   \n",
       "4                     139                         18.7%   \n",
       "\n",
       "  % Renter Occupied Units (2010)  ...  % Units Built before 1939  \\\n",
       "0                          89.9%  ...                       1.3%   \n",
       "1                          81.8%  ...                      57.4%   \n",
       "2                          40.8%  ...                      62.9%   \n",
       "3                          34.6%  ...                      72.3%   \n",
       "4                          81.3%  ...                       9.2%   \n",
       "\n",
       "  Median Home Value (2000) Med. Val. ('00 in '10 Dollars)  \\\n",
       "0                  $86,500                       $109,535   \n",
       "1                 $159,700                       $202,228   \n",
       "2                  $34,300                        $43,434   \n",
       "3                  $38,800                        $49,132   \n",
       "4                  $45,000                        $56,984   \n",
       "\n",
       "  Median Home  Value (2010) % Change Real Value 2000-2010  \\\n",
       "0                  $136,300                         24.4%   \n",
       "1                  $123,600                        -38.9%   \n",
       "2                   $42,200                         -2.8%   \n",
       "3                   $44,200                        -10.0%   \n",
       "4                   $64,400                         13.0%   \n",
       "\n",
       "  Median Sale Price (2010) # Sales Counted (2010) Foreclosures (2008)  \\\n",
       "0                      NaN                      0                   0   \n",
       "1                 $309,940                      7                   0   \n",
       "2                   $8,500                     70                  27   \n",
       "3                  $15,397                     34                  12   \n",
       "4                      NaN                      0                   0   \n",
       "\n",
       "  Foreclosures (2010) % of all Housing Units Foreclosed (2010)  \n",
       "0                   0                                     0.0%  \n",
       "1                   1                                     0.3%  \n",
       "2                  11                                     0.9%  \n",
       "3                  13                                     1.5%  \n",
       "4                   0                                     0.0%  \n",
       "\n",
       "[5 rows x 28 columns]"
      ]
     },
     "execution_count": 2,
     "metadata": {},
     "output_type": "execute_result"
    }
   ],
   "source": [
    "#reads the dataset\n",
    "\n",
    "housing_data = pd.read_csv(\"housing_data.csv\")\n",
    "housing_data.head(5)"
   ]
  },
  {
   "cell_type": "markdown",
   "metadata": {},
   "source": [
    "As you can see, there is a lot of data in this csv regarding housing information. Ranging from population, to occupied units and even foreclosures. But most of this data is irrelevant to what we are trying to determine here. What we need is just the **Median Home Value (2010)** for each neighborhood,\n",
    "which is the most recent date that this data is available from."
   ]
  },
  {
   "cell_type": "code",
   "execution_count": 3,
   "metadata": {},
   "outputs": [
    {
     "data": {
      "text/html": [
       "<div>\n",
       "<style scoped>\n",
       "    .dataframe tbody tr th:only-of-type {\n",
       "        vertical-align: middle;\n",
       "    }\n",
       "\n",
       "    .dataframe tbody tr th {\n",
       "        vertical-align: top;\n",
       "    }\n",
       "\n",
       "    .dataframe thead th {\n",
       "        text-align: right;\n",
       "    }\n",
       "</style>\n",
       "<table border=\"1\" class=\"dataframe\">\n",
       "  <thead>\n",
       "    <tr style=\"text-align: right;\">\n",
       "      <th></th>\n",
       "      <th>Neighborhood</th>\n",
       "      <th>Median Home Value</th>\n",
       "    </tr>\n",
       "  </thead>\n",
       "  <tbody>\n",
       "    <tr>\n",
       "      <th>0</th>\n",
       "      <td>Allegheny Center</td>\n",
       "      <td>$136,300</td>\n",
       "    </tr>\n",
       "    <tr>\n",
       "      <th>1</th>\n",
       "      <td>Allegheny West</td>\n",
       "      <td>$123,600</td>\n",
       "    </tr>\n",
       "    <tr>\n",
       "      <th>2</th>\n",
       "      <td>Allentown</td>\n",
       "      <td>$42,200</td>\n",
       "    </tr>\n",
       "    <tr>\n",
       "      <th>3</th>\n",
       "      <td>Arlington</td>\n",
       "      <td>$44,200</td>\n",
       "    </tr>\n",
       "    <tr>\n",
       "      <th>4</th>\n",
       "      <td>Arlington Heights</td>\n",
       "      <td>$64,400</td>\n",
       "    </tr>\n",
       "  </tbody>\n",
       "</table>\n",
       "</div>"
      ],
      "text/plain": [
       "        Neighborhood Median Home Value\n",
       "0   Allegheny Center          $136,300\n",
       "1     Allegheny West          $123,600\n",
       "2          Allentown           $42,200\n",
       "3          Arlington           $44,200\n",
       "4  Arlington Heights           $64,400"
      ]
     },
     "execution_count": 3,
     "metadata": {},
     "output_type": "execute_result"
    }
   ],
   "source": [
    "median_value = pd.DataFrame(housing_data[['Neighborhood', \"Median Home  Value (2010)\"]])\n",
    "\n",
    "median_value.rename(columns = {'Median Home  Value (2010)':'Median Home Value'}, inplace = True)\n",
    "\n",
    "median_value.head()"
   ]
  },
  {
   "cell_type": "markdown",
   "metadata": {},
   "source": [
    "Now we have a just the key data, Neighborhood and Median Home Value in one table. But the problem with this is that the neighborhoods' median home values are not sorted in descending order and aren't cleaned."
   ]
  },
  {
   "cell_type": "code",
   "execution_count": 4,
   "metadata": {},
   "outputs": [],
   "source": [
    "median_value[median_value.columns[1]] = median_value[median_value.columns[1]].replace('[\\$,]', '', regex=True).astype(float)\n",
    "median_value = median_value[median_value['Median Home Value'].notnull()]\n",
    "median_value = median_value.sort_values(by = 'Median Home Value', ascending = True)"
   ]
  },
  {
   "cell_type": "markdown",
   "metadata": {},
   "source": [
    "This code cleans the data in the Median Home Value column so that there is no $ signs, all the values are floats, and all neighborhoods with null values are removed."
   ]
  },
  {
   "cell_type": "code",
   "execution_count": 5,
   "metadata": {},
   "outputs": [
    {
     "data": {
      "text/html": [
       "<div>\n",
       "<style scoped>\n",
       "    .dataframe tbody tr th:only-of-type {\n",
       "        vertical-align: middle;\n",
       "    }\n",
       "\n",
       "    .dataframe tbody tr th {\n",
       "        vertical-align: top;\n",
       "    }\n",
       "\n",
       "    .dataframe thead th {\n",
       "        text-align: right;\n",
       "    }\n",
       "</style>\n",
       "<table border=\"1\" class=\"dataframe\">\n",
       "  <thead>\n",
       "    <tr style=\"text-align: right;\">\n",
       "      <th></th>\n",
       "      <th>Neighborhood</th>\n",
       "      <th>Median Home Value</th>\n",
       "    </tr>\n",
       "  </thead>\n",
       "  <tbody>\n",
       "    <tr>\n",
       "      <th>10</th>\n",
       "      <td>Bluff</td>\n",
       "      <td>21200.0</td>\n",
       "    </tr>\n",
       "    <tr>\n",
       "      <th>86</th>\n",
       "      <td>West End</td>\n",
       "      <td>29800.0</td>\n",
       "    </tr>\n",
       "    <tr>\n",
       "      <th>42</th>\n",
       "      <td>Homewood West</td>\n",
       "      <td>34500.0</td>\n",
       "    </tr>\n",
       "    <tr>\n",
       "      <th>44</th>\n",
       "      <td>Larimer</td>\n",
       "      <td>34850.0</td>\n",
       "    </tr>\n",
       "    <tr>\n",
       "      <th>40</th>\n",
       "      <td>Homewood North</td>\n",
       "      <td>35450.0</td>\n",
       "    </tr>\n",
       "  </tbody>\n",
       "</table>\n",
       "</div>"
      ],
      "text/plain": [
       "      Neighborhood  Median Home Value\n",
       "10           Bluff            21200.0\n",
       "86        West End            29800.0\n",
       "42   Homewood West            34500.0\n",
       "44         Larimer            34850.0\n",
       "40  Homewood North            35450.0"
      ]
     },
     "execution_count": 5,
     "metadata": {},
     "output_type": "execute_result"
    }
   ],
   "source": [
    "median_value.head()"
   ]
  },
  {
   "cell_type": "markdown",
   "metadata": {},
   "source": [
    "At a glance from the head values we can see that the most affordable neighborhoods based on the lowest Median Home Values are:\n",
    "\n",
    "1. Bluff\n",
    "2. West End\n",
    "3. Homewood West\n",
    "4. Larmier\n",
    "5. Homewood North\n",
    "\n",
    "Since all this is already in a dataframe, we should **graph it to get a better visualization of the data**. For this type of data it is probably most appropriate to graph it as a bar graph."
   ]
  },
  {
   "cell_type": "code",
   "execution_count": 6,
   "metadata": {},
   "outputs": [
    {
     "data": {
      "image/png": "[encoded data removed]",
      "text/plain": [
       "<Figure size 432x288 with 1 Axes>"
      ]
     },
     "metadata": {
      "needs_background": "light"
     },
     "output_type": "display_data"
    }
   ],
   "source": [
    "median_value.reset_index(inplace=True)\n",
    "\n",
    "median_value_bar = median_value.iloc[:10].plot(kind='bar', x = 'Neighborhood', y = 'Median Home Value', title = \"Neighborhoods with lowest Median Home Value\")"
   ]
  },
  {
   "cell_type": "markdown",
   "metadata": {},
   "source": [
    "As you can see, bluff has the lowest median home value by a decent margin. After West End the values gradually increase.\n",
    "\n",
    "These 10 would be among the highest ranked in the dataset."
   ]
  },
  {
   "cell_type": "code",
   "execution_count": 7,
   "metadata": {},
   "outputs": [
    {
     "data": {
      "image/png": "[encoded data removed]",
      "text/plain": [
       "<Figure size 432x288 with 1 Axes>"
      ]
     },
     "metadata": {
      "needs_background": "light"
     },
     "output_type": "display_data"
    }
   ],
   "source": [
    "median_value_bar = median_value.iloc[(len(median_value['Median Home Value']) - 10):].plot(kind='bar', x = 'Neighborhood', y = 'Median Home Value', title = \"Neighborhoods with highest Median Home Value\")"
   ]
  },
  {
   "cell_type": "markdown",
   "metadata": {},
   "source": [
    "Here are the 10 neighborhoods with the highest Median Home values, otherwise known as the lowest ranked neighborhoods. As we look to the right on the bar graph we can see the that the values increase at a much higher rate than the top 10 seen in the previous graph. Comparing the y axis legends of these graphs also shows just how much more expensive the values in the second graph are."
   ]
  },
  {
   "cell_type": "code",
   "execution_count": 8,
   "metadata": {},
   "outputs": [
    {
     "name": "stdout",
     "output_type": "stream",
     "text": [
      "Bluff, the highest ranked neighborhood has a median home value of 21200.0\n",
      "Squirrel Hill North, the lowest ranked neighborhood has a median home value of 344900.0\n"
     ]
    }
   ],
   "source": [
    "print(\"Bluff, the highest ranked neighborhood has a median home value of\", median_value[\"Median Home Value\"].min())\n",
    "print(\"Squirrel Hill North, the lowest ranked neighborhood has a median home value of\", median_value[\"Median Home Value\"].max())"
   ]
  },
  {
   "cell_type": "markdown",
   "metadata": {},
   "source": [
    "Pretty huge difference no?\n",
    "\n",
    "But speaking of all this ranking, we should add a concrete rank column to our dataframe to make it easier to compare to the other metrics in our project."
   ]
  },
  {
   "cell_type": "code",
   "execution_count": 9,
   "metadata": {},
   "outputs": [
    {
     "data": {
      "text/html": [
       "<div>\n",
       "<style scoped>\n",
       "    .dataframe tbody tr th:only-of-type {\n",
       "        vertical-align: middle;\n",
       "    }\n",
       "\n",
       "    .dataframe tbody tr th {\n",
       "        vertical-align: top;\n",
       "    }\n",
       "\n",
       "    .dataframe thead th {\n",
       "        text-align: right;\n",
       "    }\n",
       "</style>\n",
       "<table border=\"1\" class=\"dataframe\">\n",
       "  <thead>\n",
       "    <tr style=\"text-align: right;\">\n",
       "      <th></th>\n",
       "      <th>index</th>\n",
       "      <th>Neighborhood</th>\n",
       "      <th>Rank</th>\n",
       "      <th>Median Home Value</th>\n",
       "    </tr>\n",
       "  </thead>\n",
       "  <tbody>\n",
       "    <tr>\n",
       "      <th>0</th>\n",
       "      <td>10</td>\n",
       "      <td>Bluff</td>\n",
       "      <td>1</td>\n",
       "      <td>21200.0</td>\n",
       "    </tr>\n",
       "    <tr>\n",
       "      <th>1</th>\n",
       "      <td>86</td>\n",
       "      <td>West End</td>\n",
       "      <td>2</td>\n",
       "      <td>29800.0</td>\n",
       "    </tr>\n",
       "    <tr>\n",
       "      <th>2</th>\n",
       "      <td>42</td>\n",
       "      <td>Homewood West</td>\n",
       "      <td>3</td>\n",
       "      <td>34500.0</td>\n",
       "    </tr>\n",
       "    <tr>\n",
       "      <th>3</th>\n",
       "      <td>44</td>\n",
       "      <td>Larimer</td>\n",
       "      <td>4</td>\n",
       "      <td>34850.0</td>\n",
       "    </tr>\n",
       "    <tr>\n",
       "      <th>4</th>\n",
       "      <td>40</td>\n",
       "      <td>Homewood North</td>\n",
       "      <td>5</td>\n",
       "      <td>35450.0</td>\n",
       "    </tr>\n",
       "    <tr>\n",
       "      <th>5</th>\n",
       "      <td>8</td>\n",
       "      <td>Beltzhoover</td>\n",
       "      <td>6</td>\n",
       "      <td>36000.0</td>\n",
       "    </tr>\n",
       "    <tr>\n",
       "      <th>6</th>\n",
       "      <td>43</td>\n",
       "      <td>Knoxville</td>\n",
       "      <td>7</td>\n",
       "      <td>39900.0</td>\n",
       "    </tr>\n",
       "    <tr>\n",
       "      <th>7</th>\n",
       "      <td>27</td>\n",
       "      <td>East Hills</td>\n",
       "      <td>8</td>\n",
       "      <td>40700.0</td>\n",
       "    </tr>\n",
       "    <tr>\n",
       "      <th>8</th>\n",
       "      <td>77</td>\n",
       "      <td>St. Clair</td>\n",
       "      <td>9</td>\n",
       "      <td>41100.0</td>\n",
       "    </tr>\n",
       "    <tr>\n",
       "      <th>9</th>\n",
       "      <td>2</td>\n",
       "      <td>Allentown</td>\n",
       "      <td>10</td>\n",
       "      <td>42200.0</td>\n",
       "    </tr>\n",
       "  </tbody>\n",
       "</table>\n",
       "</div>"
      ],
      "text/plain": [
       "   index    Neighborhood  Rank  Median Home Value\n",
       "0     10           Bluff     1            21200.0\n",
       "1     86        West End     2            29800.0\n",
       "2     42   Homewood West     3            34500.0\n",
       "3     44         Larimer     4            34850.0\n",
       "4     40  Homewood North     5            35450.0\n",
       "5      8     Beltzhoover     6            36000.0\n",
       "6     43       Knoxville     7            39900.0\n",
       "7     27      East Hills     8            40700.0\n",
       "8     77       St. Clair     9            41100.0\n",
       "9      2       Allentown    10            42200.0"
      ]
     },
     "execution_count": 9,
     "metadata": {},
     "output_type": "execute_result"
    }
   ],
   "source": [
    "ranks = []\n",
    "\n",
    "for i in range(len(median_value['Median Home Value'])):\n",
    "    ranks.append(i + 1)\n",
    "    \n",
    "median_value.insert(2, \"Rank\", ranks, True)\n",
    "median_value.head(10)"
   ]
  },
  {
   "cell_type": "markdown",
   "metadata": {},
   "source": [
    "## Conclusion"
   ]
  },
  {
   "cell_type": "markdown",
   "metadata": {},
   "source": [
    "As mentioned before, it seems that the most affordable neighborhoods in Pittsburgh are:\n",
    "\n",
    "1. Bluff\n",
    "2. West End\n",
    "3. Homewood West\n",
    "4. Larmier\n",
    "5. Homewood North\n",
    "\n",
    "**But there is something that is very important to note**\n",
    "\n",
    "Just because a neighborhood is considered very affordable to live in does not by any means dictate that it is a good neighborhood for a family. There may be many reasons that a neighborhoods median home value is low, such as it being an area that is undesirable to live in. If anything, neighborhoods with a **high** median home value are more directly indicitive of a place where families might want to live. Higher house values could mean that it is considered a nice place to live. \n",
    "\n",
    "This is where the importance of the ranking metric comes in. These ranks alone dont concretely speak to the quality of life a family could have at these locations. Rather, this data is meant to be averaged with our group's other metrics. Safety and Education quality. We seek to find the best neighborhood in Pittsburgh by find a place with the lowest average of safety, education quality and housing prices. Such a neighborhood would have a good combination of peace of mind from danger, reliable education, and housing affordability.\n",
    "\n",
    "This data is only meaningfull when paired with our other metrics.\n",
    "\n"
   ]
  },
  {
   "cell_type": "code",
   "execution_count": 10,
   "metadata": {},
   "outputs": [],
   "source": []
  },
  {
   "cell_type": "code",
   "execution_count": null,
   "metadata": {},
   "outputs": [],
   "source": []
  }
 ],
 "metadata": {
  "kernelspec": {
   "display_name": "Python 3",
   "language": "python",
   "name": "python3"
  },
  "language_info": {
   "codemirror_mode": {
    "name": "ipython",
    "version": 3
   },
   "file_extension": ".py",
   "mimetype": "text/x-python",
   "name": "python",
   "nbconvert_exporter": "python",
   "pygments_lexer": "ipython3",
   "version": "3.8.3"
  }
 },
 "nbformat": 4,
 "nbformat_minor": 4
}
