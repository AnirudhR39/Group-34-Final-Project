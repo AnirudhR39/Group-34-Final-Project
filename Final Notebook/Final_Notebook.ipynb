{
 "cells": [
  {
   "cell_type": "markdown",
   "metadata": {},
   "source": [
    "# Final Notebook"
   ]
  },
  {
   "cell_type": "markdown",
   "metadata": {},
   "source": [
    "by Mohammad Mamnoon, Layne Krantosky, and Rajesh Anirudh"
   ]
  },
  {
   "cell_type": "markdown",
   "metadata": {},
   "source": [
    "## Introduction"
   ]
  },
  {
   "cell_type": "markdown",
   "metadata": {},
   "source": [
    "Our goal is to find the best neighborhood in Pittsburgh for families to live in. Factors such as crime rates, quality of education, and housing prices all play a significant role in this decision-making process. Therefore, it is important to provide families with reliable and informative data that can help them make informed decisions about where to live and raise their children. This project aims to analyze various sources of data and identify the best neighborhoods for families based on a combination of these factors. Through statistical analysis and data visualization using Python libraries, we will provide insights into the safest neighborhoods with quality education opportunities and affordable housing options. This project will be of great benefit to families looking for a new home, as it will help them make an informed decision and find the ideal neighborhood to raise their family."
   ]
  },
  {
   "cell_type": "code",
   "execution_count": 1,
   "metadata": {},
   "outputs": [],
   "source": [
    "import pandas as pd"
   ]
  },
  {
   "cell_type": "code",
   "execution_count": 2,
   "metadata": {},
   "outputs": [],
   "source": [
    "housing = pd.read_csv(\"median_value.csv\")\n",
    "crime = pd.read_csv(\"crime_rankings.csv\")"
   ]
  },
  {
   "cell_type": "code",
   "execution_count": 3,
   "metadata": {},
   "outputs": [],
   "source": [
    "ranks = []\n",
    "\n",
    "for i in range(len(crime['Crime Score'])):\n",
    "    ranks.append(i + 1)\n",
    "    \n",
    "crime.insert(2, \"Rank\", ranks, True)"
   ]
  },
  {
   "cell_type": "code",
   "execution_count": 9,
   "metadata": {},
   "outputs": [],
   "source": [
    "rank_data = {\n",
    "    \"neighborhood\": housing[\"Neighborhood\"]\n",
    "}\n",
    "\n",
    "rank_metrics = pd.DataFrame(rank_data)"
   ]
  },
  {
   "cell_type": "markdown",
   "metadata": {},
   "source": [
    "## Crime Rate"
   ]
  },
  {
   "cell_type": "markdown",
   "metadata": {},
   "source": [
    "Layn's Notebook:"
   ]
  },
  {
   "cell_type": "markdown",
   "metadata": {},
   "source": [
    "## Student Enrollment"
   ]
  },
  {
   "cell_type": "markdown",
   "metadata": {},
   "source": [
    "Mohammad's Notebook:"
   ]
  },
  {
   "cell_type": "markdown",
   "metadata": {},
   "source": [
    "## Housing Price"
   ]
  },
  {
   "cell_type": "markdown",
   "metadata": {},
   "source": [
    "Rajesh's Notebook:"
   ]
  },
  {
   "cell_type": "markdown",
   "metadata": {},
   "source": [
    "## Conclusion"
   ]
  },
  {
   "cell_type": "markdown",
   "metadata": {},
   "source": [
    "Layn: "
   ]
  },
  {
   "cell_type": "markdown",
   "metadata": {},
   "source": [
    "Mohammad: \n",
    "Based on the data analysis, it has been determined that Squirrel Hill South is the optimal neighborhood in Pittsburgh for families with respect to student enrollment. Therefore, I believe that Squirrel Hill South would be an excellent choice for families who prioritize access to quality educational opportunities for their children. It's important to note that this preference is based solely on the analysis of student enrollment data, which indicates that Squirrel Hill South offers the best educational opportunities for families in Pittsburgh."
   ]
  },
  {
   "cell_type": "code",
   "execution_count": null,
   "metadata": {},
   "outputs": [],
   "source": [
    "Rajesh:"
   ]
  },
  {
   "cell_type": "markdown",
   "metadata": {},
   "source": [
    "Final decision:"
   ]
  }
 ],
 "metadata": {
  "kernelspec": {
   "display_name": "Python 3",
   "language": "python",
   "name": "python3"
  },
  "language_info": {
   "codemirror_mode": {
    "name": "ipython",
    "version": 3
   },
   "file_extension": ".py",
   "mimetype": "text/x-python",
   "name": "python",
   "nbconvert_exporter": "python",
   "pygments_lexer": "ipython3",
   "version": "3.8.3"
  }
 },
 "nbformat": 4,
 "nbformat_minor": 4
}
