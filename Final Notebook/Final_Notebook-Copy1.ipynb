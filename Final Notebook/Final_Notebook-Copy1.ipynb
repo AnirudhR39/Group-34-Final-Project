{
 "cells": [
  {
   "cell_type": "markdown",
   "metadata": {},
   "source": [
    "# Final Notebook"
   ]
  },
  {
   "cell_type": "markdown",
   "metadata": {},
   "source": [
    "by Mohammad Mamnoon, Layne Krantosky, and Rajesh Anirudh"
   ]
  },
  {
   "cell_type": "markdown",
   "metadata": {},
   "source": [
    "## Introduction"
   ]
  },
  {
   "cell_type": "markdown",
   "metadata": {},
   "source": [
    "Our goal is to find the best neighborhood in Pittsburgh for families to live in. Factors such as crime rates, quality of education, and housing prices all play a significant role in this decision-making process. Therefore, it is important to provide families with reliable and informative data that can help them make informed decisions about where to live and raise their children. This project aims to analyze various sources of data and identify the best neighborhoods for families based on a combination of these factors. Through statistical analysis and data visualization using Python libraries, we will provide insights into the safest neighborhoods with quality education opportunities and affordable housing options. This project will be of great benefit to families looking for a new home, as it will help them make an informed decision and find the ideal neighborhood to raise their family."
   ]
  },
  {
   "cell_type": "markdown",
   "metadata": {},
   "source": [
    "Since we have individual ranking metrics for school enrollment, housing affordibilty, and crime safety, we need to calculate the mean of all of these ranks for each neighborhood to determine the overall rankings."
   ]
  },
  {
   "cell_type": "code",
   "execution_count": 1,
   "metadata": {},
   "outputs": [],
   "source": [
    "import pandas as pd"
   ]
  },
  {
   "cell_type": "code",
   "execution_count": 2,
   "metadata": {},
   "outputs": [],
   "source": [
    "metric_ranks = pd.read_csv(\"median_value.csv\")"
   ]
  },
  {
   "cell_type": "code",
   "execution_count": 3,
   "metadata": {},
   "outputs": [],
   "source": [
    "mean = metric_ranks.mean(axis='columns', numeric_only = True)\n",
    "\n",
    "metric_ranks.insert(4, \"Mean Rank\", mean, True)\n",
    "\n",
    "metric_ranks = metric_ranks.sort_values('Mean Rank', ascending = True)"
   ]
  },
  {
   "cell_type": "code",
   "execution_count": 4,
   "metadata": {},
   "outputs": [
    {
     "data": {
      "text/html": [
       "<div>\n",
       "<style scoped>\n",
       "    .dataframe tbody tr th:only-of-type {\n",
       "        vertical-align: middle;\n",
       "    }\n",
       "\n",
       "    .dataframe tbody tr th {\n",
       "        vertical-align: top;\n",
       "    }\n",
       "\n",
       "    .dataframe thead th {\n",
       "        text-align: right;\n",
       "    }\n",
       "</style>\n",
       "<table border=\"1\" class=\"dataframe\">\n",
       "  <thead>\n",
       "    <tr style=\"text-align: right;\">\n",
       "      <th></th>\n",
       "      <th>Neighborhood</th>\n",
       "      <th>Housing Rank</th>\n",
       "      <th>Crime Rank</th>\n",
       "      <th>Education Rank</th>\n",
       "      <th>Mean Rank</th>\n",
       "    </tr>\n",
       "  </thead>\n",
       "  <tbody>\n",
       "    <tr>\n",
       "      <th>19</th>\n",
       "      <td>Troy Hill</td>\n",
       "      <td>20</td>\n",
       "      <td>8</td>\n",
       "      <td>48</td>\n",
       "      <td>25.333333</td>\n",
       "    </tr>\n",
       "    <tr>\n",
       "      <th>0</th>\n",
       "      <td>Bluff</td>\n",
       "      <td>1</td>\n",
       "      <td>67</td>\n",
       "      <td>13</td>\n",
       "      <td>27.000000</td>\n",
       "    </tr>\n",
       "    <tr>\n",
       "      <th>11</th>\n",
       "      <td>Arlington</td>\n",
       "      <td>12</td>\n",
       "      <td>19</td>\n",
       "      <td>54</td>\n",
       "      <td>28.333333</td>\n",
       "    </tr>\n",
       "    <tr>\n",
       "      <th>14</th>\n",
       "      <td>Upper Lawrenceville</td>\n",
       "      <td>15</td>\n",
       "      <td>38</td>\n",
       "      <td>41</td>\n",
       "      <td>31.333333</td>\n",
       "    </tr>\n",
       "    <tr>\n",
       "      <th>20</th>\n",
       "      <td>Mt. Oliver</td>\n",
       "      <td>21</td>\n",
       "      <td>4</td>\n",
       "      <td>80</td>\n",
       "      <td>35.000000</td>\n",
       "    </tr>\n",
       "    <tr>\n",
       "      <th>24</th>\n",
       "      <td>Terrace Village</td>\n",
       "      <td>25</td>\n",
       "      <td>36</td>\n",
       "      <td>47</td>\n",
       "      <td>36.000000</td>\n",
       "    </tr>\n",
       "    <tr>\n",
       "      <th>1</th>\n",
       "      <td>West End</td>\n",
       "      <td>2</td>\n",
       "      <td>20</td>\n",
       "      <td>87</td>\n",
       "      <td>36.333333</td>\n",
       "    </tr>\n",
       "    <tr>\n",
       "      <th>15</th>\n",
       "      <td>Hays</td>\n",
       "      <td>16</td>\n",
       "      <td>13</td>\n",
       "      <td>82</td>\n",
       "      <td>37.000000</td>\n",
       "    </tr>\n",
       "    <tr>\n",
       "      <th>12</th>\n",
       "      <td>Spring Garden</td>\n",
       "      <td>13</td>\n",
       "      <td>25</td>\n",
       "      <td>75</td>\n",
       "      <td>37.666667</td>\n",
       "    </tr>\n",
       "    <tr>\n",
       "      <th>5</th>\n",
       "      <td>Beltzhoover</td>\n",
       "      <td>6</td>\n",
       "      <td>49</td>\n",
       "      <td>59</td>\n",
       "      <td>38.000000</td>\n",
       "    </tr>\n",
       "  </tbody>\n",
       "</table>\n",
       "</div>"
      ],
      "text/plain": [
       "           Neighborhood  Housing Rank  Crime Rank  Education Rank  Mean Rank\n",
       "19            Troy Hill            20           8              48  25.333333\n",
       "0                 Bluff             1          67              13  27.000000\n",
       "11            Arlington            12          19              54  28.333333\n",
       "14  Upper Lawrenceville            15          38              41  31.333333\n",
       "20           Mt. Oliver            21           4              80  35.000000\n",
       "24      Terrace Village            25          36              47  36.000000\n",
       "1              West End             2          20              87  36.333333\n",
       "15                 Hays            16          13              82  37.000000\n",
       "12        Spring Garden            13          25              75  37.666667\n",
       "5           Beltzhoover             6          49              59  38.000000"
      ]
     },
     "execution_count": 4,
     "metadata": {},
     "output_type": "execute_result"
    }
   ],
   "source": [
    "metric_ranks.head(10)"
   ]
  },
  {
   "cell_type": "markdown",
   "metadata": {},
   "source": [
    "At a glance the top 5 neighborhoods are:\n",
    "\n",
    "1. Troy Hill\n",
    "2. Bluff\n",
    "3. Arlington\n",
    "4. Upper Lawrenceville\n",
    "5. Mt.Oliver\n",
    "\n",
    "Whats interesting is that each of these are in the top 5 of neighborhoods for different reasons. Troy Hill is a pretty well rounded neighborhood with good housing affordibility, very high crime safety, and decent education. Bluff has the most affordable housing, but a somewhat subpar crime safety and good education. Each of these top neighborhoods have strengths and weaknesses in different areas but overall Troy Hill comes out on top."
   ]
  },
  {
   "cell_type": "markdown",
   "metadata": {},
   "source": [
    "Lets a get a more visual comparison of these stats."
   ]
  },
  {
   "cell_type": "code",
   "execution_count": 7,
   "metadata": {},
   "outputs": [
    {
     "data": {
      "image/png": "[encoded data removed]",
      "text/plain": [
       "<Figure size 432x288 with 1 Axes>"
      ]
     },
     "metadata": {
      "needs_background": "light"
     },
     "output_type": "display_data"
    }
   ],
   "source": [
    "metric_bar = metric_ranks.iloc[:10].plot(kind='bar', x = 'Neighborhood', y = 'Mean Rank', title = \"Top 10 Neighborhoods according to Mean Rank\")"
   ]
  },
  {
   "cell_type": "markdown",
   "metadata": {},
   "source": [
    "As we can see these neighborhoods are not drastially different from each other in terms of mean rank. The scores vary within 10ish points of each other. What this indicates is that in terms of general quality these neighborhoods are close to each other."
   ]
  },
  {
   "cell_type": "markdown",
   "metadata": {},
   "source": [
    "## Crime Rate"
   ]
  },
  {
   "cell_type": "markdown",
   "metadata": {},
   "source": [
    "Layn's Notebook:"
   ]
  },
  {
   "cell_type": "markdown",
   "metadata": {},
   "source": [
    "## Student Enrollment"
   ]
  },
  {
   "cell_type": "markdown",
   "metadata": {},
   "source": [
    "Mohammad's Notebook:"
   ]
  },
  {
   "cell_type": "markdown",
   "metadata": {},
   "source": [
    "## Top 10 Best Neighborhood by School Enrollment"
   ]
  },
  {
   "cell_type": "code",
   "execution_count": 5,
   "metadata": {},
   "outputs": [
    {
     "data": {
      "image/png": "[encoded data removed]",
      "text/plain": [
       "<Figure size 720x432 with 1 Axes>"
      ]
     },
     "metadata": {
      "needs_background": "light"
     },
     "output_type": "display_data"
    }
   ],
   "source": [
    "import geopandas as gpd\n",
    "import pandas as pd\n",
    "import matplotlib.pyplot as plt\n",
    "\n",
    "# read in the school data file\n",
    "school_data = pd.read_csv(\"enrollmentdata.csv\")\n",
    "\n",
    "# create a new dataframe with top 20 neighborhoods by enrollment\n",
    "top20_neighborhoods = school_data.sort_values(by=\"Estimate; Total:\", ascending=False).head(10)\n",
    "\n",
    "# plot bar chart\n",
    "fig, ax = plt.subplots(figsize=(10, 6))\n",
    "ax.bar(top20_neighborhoods[\"Neighborhood\"], top20_neighborhoods[\"Estimate; Total:\"], color=\"purple\")\n",
    "ax.set_xticklabels(top20_neighborhoods[\"Neighborhood\"], rotation=45, ha=\"right\")\n",
    "ax.set_xlabel(\"Neighborhood\")\n",
    "ax.set_ylabel(\"Enrollment\")\n",
    "ax.set_title(\"Top 10 Pittsburgh neighborhoods by enrollment\")\n",
    "plt.show()"
   ]
  },
  {
   "cell_type": "markdown",
   "metadata": {},
   "source": [
    "## Based on the graph and ranking, it seems that Squirrel Hill South has the highest enrollment among all neighborhoods, making it the clear winner."
   ]
  },
  {
   "cell_type": "markdown",
   "metadata": {},
   "source": [
    "## Housing Price"
   ]
  },
  {
   "cell_type": "markdown",
   "metadata": {},
   "source": [
    "Rajesh's Notebook:"
   ]
  },
  {
   "cell_type": "markdown",
   "metadata": {},
   "source": [
    "## Conclusion"
   ]
  },
  {
   "cell_type": "markdown",
   "metadata": {},
   "source": [
    "Layne: Based on my analysis, Mt. Oliver is one of the best places in the Pittsburgh area in terms of safety from crime. My personal favorite neighborhood is Pleasants Hills, but I am very biased as that is where I am from. While the metrics we used are important considerations to make, at the end of the day the word \"best\" is very subjective. Different people will have different needs, so there is no way to determine a definitive best neighborhood in Pittsburgh. "
   ]
  },
  {
   "cell_type": "markdown",
   "metadata": {},
   "source": [
    "Mohammad: \n",
    "Based on the data analysis, it has been determined that Squirrel Hill South is the optimal neighborhood in Pittsburgh for families with respect to student enrollment. Therefore, I believe that Squirrel Hill South would be an excellent choice for families who prioritize access to quality educational opportunities for their children. It's important to note that this preference is based solely on the analysis of student enrollment data, which indicates that Squirrel Hill South offers the best educational opportunities for families in Pittsburgh."
   ]
  },
  {
   "cell_type": "markdown",
   "metadata": {},
   "source": [
    "Rajesh:"
   ]
  },
  {
   "cell_type": "markdown",
   "metadata": {},
   "source": [
    "Final decision:"
   ]
  },
  {
   "cell_type": "code",
   "execution_count": null,
   "metadata": {},
   "outputs": [],
   "source": []
  }
 ],
 "metadata": {
  "kernelspec": {
   "display_name": "Python 3",
   "language": "python",
   "name": "python3"
  },
  "language_info": {
   "codemirror_mode": {
    "name": "ipython",
    "version": 3
   },
   "file_extension": ".py",
   "mimetype": "text/x-python",
   "name": "python",
   "nbconvert_exporter": "python",
   "pygments_lexer": "ipython3",
   "version": "3.8.3"
  }
 },
 "nbformat": 4,
 "nbformat_minor": 4
}
