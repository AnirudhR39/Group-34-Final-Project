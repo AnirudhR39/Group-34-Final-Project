{
 "cells": [
  {
   "cell_type": "code",
   "execution_count": null,
   "id": "d9bada97-2594-4565-8e1f-668a40879d81",
   "metadata": {},
   "outputs": [],
   "source": [
    "housing = pd.read_csv(\"median_value.csv\")\n",
    "crime = pd.read_csv(\"crime_rankings.csv\")\n",
    "education = pd.read_csv(\"Enrollment_rankings.csv\")\n",
    "\n",
    "neighborhoods = []\n",
    "\n",
    "#put all the neighborhoods in a list\n",
    "for index, row in housing.iterrows():\n",
    "    neighborhoods.append(row[\"Neighborhood\"]) \n",
    "\n",
    "#loop through and list and compare to the neighborhoods in each dataset to see if they are in both    \n",
    "counter = 0\n",
    "for neighborhood in neighborhoods:\n",
    "    if neighborhood not in crime.iterrows():\n",
    "        del neighborhoods[counter]\n",
    "    counter += 1\n",
    "\n",
    "counter = 0\n",
    "for neighborhood in neighborhoods:\n",
    "    if neighborhood not in education.iterrows():\n",
    "        del neighborhoods[counter]\n",
    "    counter += 1    \n",
    "\n",
    "print(neighborhoods)    \n",
    "housing_ranks = {}\n",
    "crime_ranks = {}\n",
    "education_ranks = {}"
   ]
  }
 ],
 "metadata": {
  "kernelspec": {
   "display_name": "Python 3 (ipykernel)",
   "language": "python",
   "name": "python3"
  },
  "language_info": {
   "codemirror_mode": {
    "name": "ipython",
    "version": 3
   },
   "file_extension": ".py",
   "mimetype": "text/x-python",
   "name": "python",
   "nbconvert_exporter": "python",
   "pygments_lexer": "ipython3",
   "version": "3.9.13"
  }
 },
 "nbformat": 4,
 "nbformat_minor": 5
}
